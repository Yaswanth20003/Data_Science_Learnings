{
  "nbformat": 4,
  "nbformat_minor": 0,
  "metadata": {
    "colab": {
      "provenance": []
    },
    "kernelspec": {
      "name": "python3",
      "display_name": "Python 3"
    },
    "language_info": {
      "name": "python"
    }
  },
  "cells": [
    {
      "cell_type": "code",
      "execution_count": null,
      "metadata": {
        "id": "nb94Oc5Tihnl"
      },
      "outputs": [],
      "source": [
        "import pandas as pd"
      ]
    },
    {
      "cell_type": "code",
      "source": [
        "data = pd.Series([1, 2, 3, 4])\n",
        "print(data)"
      ],
      "metadata": {
        "colab": {
          "base_uri": "https://localhost:8080/"
        },
        "id": "M6rbQ7Pfiifn",
        "outputId": "9a25ffa4-98c5-4d7d-e814-8748ee1e8753"
      },
      "execution_count": null,
      "outputs": [
        {
          "output_type": "stream",
          "name": "stdout",
          "text": [
            "0    1\n",
            "1    2\n",
            "2    3\n",
            "3    4\n",
            "dtype: int64\n"
          ]
        }
      ]
    },
    {
      "cell_type": "code",
      "source": [
        "data = pd.DataFrame({\n",
        "    \"Name\": [\"Alice\", \"Bob\"],\n",
        "    \"Age\": [24, 30]\n",
        "})\n",
        "print(data)"
      ],
      "metadata": {
        "colab": {
          "base_uri": "https://localhost:8080/"
        },
        "id": "5ihLdJK9iijA",
        "outputId": "d0b83ba2-72a9-4f0e-ce74-be4954b44d8a"
      },
      "execution_count": null,
      "outputs": [
        {
          "output_type": "stream",
          "name": "stdout",
          "text": [
            "    Name  Age\n",
            "0  Alice   24\n",
            "1    Bob   30\n"
          ]
        }
      ]
    },
    {
      "cell_type": "code",
      "source": [
        "data = pd.read_csv(\"retail_store_inventory.csv\")\n",
        "print(data)"
      ],
      "metadata": {
        "colab": {
          "base_uri": "https://localhost:8080/"
        },
        "id": "bkn-DNiziil7",
        "outputId": "b94ab283-b2db-4fc3-d07c-5037a84a7b57"
      },
      "execution_count": null,
      "outputs": [
        {
          "output_type": "stream",
          "name": "stdout",
          "text": [
            "             Date Store ID Product ID     Category Region  Inventory Level  \\\n",
            "0      01-01-2022     S001      P0001    Groceries  North              231   \n",
            "1      01-01-2022     S001      P0002         Toys  South              204   \n",
            "2      01-01-2022     S001      P0003         Toys   West              102   \n",
            "3      01-01-2022     S001      P0004         Toys  North              469   \n",
            "4      01-01-2022     S001      P0005  Electronics   East              166   \n",
            "...           ...      ...        ...          ...    ...              ...   \n",
            "73095  01-01-2024     S005      P0016    Furniture   East               96   \n",
            "73096  01-01-2024     S005      P0017         Toys  North              313   \n",
            "73097  01-01-2024     S005      P0018     Clothing   West              278   \n",
            "73098  01-01-2024     S005      P0019         Toys   East              374   \n",
            "73099  01-01-2024     S005      P0020    Groceries   East              117   \n",
            "\n",
            "       Units Sold  Units Ordered  Demand Forecast  Price  Discount  \\\n",
            "0             127             55           135.47  33.50        20   \n",
            "1             150             66           144.04  63.01        20   \n",
            "2              65             51            74.02  27.99        10   \n",
            "3              61            164            62.18  32.72        10   \n",
            "4              14            135             9.26  73.64         0   \n",
            "...           ...            ...              ...    ...       ...   \n",
            "73095           8            127            18.46  73.73        20   \n",
            "73096          51            101            48.43  82.57        10   \n",
            "73097          36            151            39.65  11.11        10   \n",
            "73098         264             21           270.52  53.14        20   \n",
            "73099           6            165             2.33  78.39        20   \n",
            "\n",
            "      Weather Condition  Holiday/Promotion  Competitor Pricing Seasonality  \n",
            "0                 Rainy                  0               29.69      Autumn  \n",
            "1                 Sunny                  0               66.16      Autumn  \n",
            "2                 Sunny                  1               31.32      Summer  \n",
            "3                Cloudy                  1               34.74      Autumn  \n",
            "4                 Sunny                  0               68.95      Summer  \n",
            "...                 ...                ...                 ...         ...  \n",
            "73095             Snowy                  0               72.45      Winter  \n",
            "73096            Cloudy                  0               83.78      Autumn  \n",
            "73097             Rainy                  0               10.91      Winter  \n",
            "73098             Rainy                  0               55.80      Spring  \n",
            "73099             Rainy                  1               79.52      Spring  \n",
            "\n",
            "[73100 rows x 15 columns]\n"
          ]
        }
      ]
    },
    {
      "cell_type": "code",
      "source": [
        "print(data.shape)"
      ],
      "metadata": {
        "colab": {
          "base_uri": "https://localhost:8080/"
        },
        "id": "zwHLPO7Niioc",
        "outputId": "4fa23595-d15e-4b91-8fd6-ca09d0dae3ea"
      },
      "execution_count": null,
      "outputs": [
        {
          "output_type": "stream",
          "name": "stdout",
          "text": [
            "(73100, 15)\n"
          ]
        }
      ]
    },
    {
      "cell_type": "code",
      "source": [
        "print(data.columns)"
      ],
      "metadata": {
        "colab": {
          "base_uri": "https://localhost:8080/"
        },
        "id": "CRoQFAsWiirS",
        "outputId": "976bfc53-4bfa-4b55-abc6-5a36f9af6ba4"
      },
      "execution_count": null,
      "outputs": [
        {
          "output_type": "stream",
          "name": "stdout",
          "text": [
            "Index(['Date', 'Store ID', 'Product ID', 'Category', 'Region',\n",
            "       'Inventory Level', 'Units Sold', 'Units Ordered', 'Demand Forecast',\n",
            "       'Price', 'Discount', 'Weather Condition', 'Holiday/Promotion',\n",
            "       'Competitor Pricing', 'Seasonality'],\n",
            "      dtype='object')\n"
          ]
        }
      ]
    },
    {
      "cell_type": "code",
      "source": [
        "print(data.index)"
      ],
      "metadata": {
        "colab": {
          "base_uri": "https://localhost:8080/"
        },
        "id": "2mNLq2A8iiuR",
        "outputId": "35b5adde-52af-49f2-aa49-c13118a8c549"
      },
      "execution_count": null,
      "outputs": [
        {
          "output_type": "stream",
          "name": "stdout",
          "text": [
            "RangeIndex(start=0, stop=73100, step=1)\n"
          ]
        }
      ]
    },
    {
      "cell_type": "code",
      "source": [
        "print(data.dtypes)"
      ],
      "metadata": {
        "colab": {
          "base_uri": "https://localhost:8080/"
        },
        "id": "MCmr0wvaiiw5",
        "outputId": "bcc5379f-0724-42e1-c826-b8523a5517c4"
      },
      "execution_count": null,
      "outputs": [
        {
          "output_type": "stream",
          "name": "stdout",
          "text": [
            "Date                   object\n",
            "Store ID               object\n",
            "Product ID             object\n",
            "Category               object\n",
            "Region                 object\n",
            "Inventory Level         int64\n",
            "Units Sold              int64\n",
            "Units Ordered           int64\n",
            "Demand Forecast       float64\n",
            "Price                 float64\n",
            "Discount                int64\n",
            "Weather Condition      object\n",
            "Holiday/Promotion       int64\n",
            "Competitor Pricing    float64\n",
            "Seasonality            object\n",
            "dtype: object\n"
          ]
        }
      ]
    },
    {
      "cell_type": "code",
      "source": [
        "print(data.head())"
      ],
      "metadata": {
        "colab": {
          "base_uri": "https://localhost:8080/"
        },
        "id": "xnCG35Rsiizs",
        "outputId": "6f6db17b-b481-46d4-ef4e-197479adb5b4"
      },
      "execution_count": null,
      "outputs": [
        {
          "output_type": "stream",
          "name": "stdout",
          "text": [
            "         Date Store ID Product ID     Category Region  Inventory Level  \\\n",
            "0  01-01-2022     S001      P0001    Groceries  North              231   \n",
            "1  01-01-2022     S001      P0002         Toys  South              204   \n",
            "2  01-01-2022     S001      P0003         Toys   West              102   \n",
            "3  01-01-2022     S001      P0004         Toys  North              469   \n",
            "4  01-01-2022     S001      P0005  Electronics   East              166   \n",
            "\n",
            "   Units Sold  Units Ordered  Demand Forecast  Price  Discount  \\\n",
            "0         127             55           135.47  33.50        20   \n",
            "1         150             66           144.04  63.01        20   \n",
            "2          65             51            74.02  27.99        10   \n",
            "3          61            164            62.18  32.72        10   \n",
            "4          14            135             9.26  73.64         0   \n",
            "\n",
            "  Weather Condition  Holiday/Promotion  Competitor Pricing Seasonality  \n",
            "0             Rainy                  0               29.69      Autumn  \n",
            "1             Sunny                  0               66.16      Autumn  \n",
            "2             Sunny                  1               31.32      Summer  \n",
            "3            Cloudy                  1               34.74      Autumn  \n",
            "4             Sunny                  0               68.95      Summer  \n"
          ]
        }
      ]
    },
    {
      "cell_type": "code",
      "source": [
        "print(data.tail())"
      ],
      "metadata": {
        "colab": {
          "base_uri": "https://localhost:8080/"
        },
        "id": "jadRGIRUii2O",
        "outputId": "f2690e2f-e08d-4e71-8f33-236135934210"
      },
      "execution_count": null,
      "outputs": [
        {
          "output_type": "stream",
          "name": "stdout",
          "text": [
            "             Date Store ID Product ID   Category Region  Inventory Level  \\\n",
            "73095  01-01-2024     S005      P0016  Furniture   East               96   \n",
            "73096  01-01-2024     S005      P0017       Toys  North              313   \n",
            "73097  01-01-2024     S005      P0018   Clothing   West              278   \n",
            "73098  01-01-2024     S005      P0019       Toys   East              374   \n",
            "73099  01-01-2024     S005      P0020  Groceries   East              117   \n",
            "\n",
            "       Units Sold  Units Ordered  Demand Forecast  Price  Discount  \\\n",
            "73095           8            127            18.46  73.73        20   \n",
            "73096          51            101            48.43  82.57        10   \n",
            "73097          36            151            39.65  11.11        10   \n",
            "73098         264             21           270.52  53.14        20   \n",
            "73099           6            165             2.33  78.39        20   \n",
            "\n",
            "      Weather Condition  Holiday/Promotion  Competitor Pricing Seasonality  \n",
            "73095             Snowy                  0               72.45      Winter  \n",
            "73096            Cloudy                  0               83.78      Autumn  \n",
            "73097             Rainy                  0               10.91      Winter  \n",
            "73098             Rainy                  0               55.80      Spring  \n",
            "73099             Rainy                  1               79.52      Spring  \n"
          ]
        }
      ]
    },
    {
      "cell_type": "code",
      "source": [
        "print(data.columns)"
      ],
      "metadata": {
        "colab": {
          "base_uri": "https://localhost:8080/"
        },
        "id": "kv9DXY63nkv4",
        "outputId": "de8587ab-7294-48fc-bc69-75adaf29fc6a"
      },
      "execution_count": null,
      "outputs": [
        {
          "output_type": "stream",
          "name": "stdout",
          "text": [
            "Index(['Date', 'Store ID', 'Product ID', 'Category', 'Region',\n",
            "       'Inventory Level', 'Units Sold', 'Units Ordered', 'Demand Forecast',\n",
            "       'Price', 'Discount', 'Weather Condition', 'Holiday/Promotion',\n",
            "       'Competitor Pricing', 'Seasonality'],\n",
            "      dtype='object')\n"
          ]
        }
      ]
    },
    {
      "cell_type": "code",
      "source": [
        "print(data.index)"
      ],
      "metadata": {
        "colab": {
          "base_uri": "https://localhost:8080/"
        },
        "id": "ocm_VaH4oFVy",
        "outputId": "75c7250a-4a04-4c99-ccd1-1fd0e2533f69"
      },
      "execution_count": null,
      "outputs": [
        {
          "output_type": "stream",
          "name": "stdout",
          "text": [
            "RangeIndex(start=0, stop=73100, step=1)\n"
          ]
        }
      ]
    },
    {
      "cell_type": "code",
      "source": [
        "print(data.shape)"
      ],
      "metadata": {
        "colab": {
          "base_uri": "https://localhost:8080/"
        },
        "id": "rXtsr93doIGk",
        "outputId": "e8c98a4d-46fa-4ca8-a7fa-bfabcb82b8d9"
      },
      "execution_count": null,
      "outputs": [
        {
          "output_type": "stream",
          "name": "stdout",
          "text": [
            "(73100, 15)\n"
          ]
        }
      ]
    },
    {
      "cell_type": "code",
      "source": [
        "print(data.describe)"
      ],
      "metadata": {
        "colab": {
          "base_uri": "https://localhost:8080/"
        },
        "id": "6mJBzF0EoIJu",
        "outputId": "008e5840-1061-4586-ce14-387338f7cd7f"
      },
      "execution_count": null,
      "outputs": [
        {
          "output_type": "stream",
          "name": "stdout",
          "text": [
            "<bound method NDFrame.describe of              Date Store ID Product ID     Category Region  Inventory Level  \\\n",
            "0      01-01-2022     S001      P0001    Groceries  North              231   \n",
            "1      01-01-2022     S001      P0002         Toys  South              204   \n",
            "2      01-01-2022     S001      P0003         Toys   West              102   \n",
            "3      01-01-2022     S001      P0004         Toys  North              469   \n",
            "4      01-01-2022     S001      P0005  Electronics   East              166   \n",
            "...           ...      ...        ...          ...    ...              ...   \n",
            "73095  01-01-2024     S005      P0016    Furniture   East               96   \n",
            "73096  01-01-2024     S005      P0017         Toys  North              313   \n",
            "73097  01-01-2024     S005      P0018     Clothing   West              278   \n",
            "73098  01-01-2024     S005      P0019         Toys   East              374   \n",
            "73099  01-01-2024     S005      P0020    Groceries   East              117   \n",
            "\n",
            "       Units Sold  Units Ordered  Demand Forecast  Price  Discount  \\\n",
            "0             127             55           135.47  33.50        20   \n",
            "1             150             66           144.04  63.01        20   \n",
            "2              65             51            74.02  27.99        10   \n",
            "3              61            164            62.18  32.72        10   \n",
            "4              14            135             9.26  73.64         0   \n",
            "...           ...            ...              ...    ...       ...   \n",
            "73095           8            127            18.46  73.73        20   \n",
            "73096          51            101            48.43  82.57        10   \n",
            "73097          36            151            39.65  11.11        10   \n",
            "73098         264             21           270.52  53.14        20   \n",
            "73099           6            165             2.33  78.39        20   \n",
            "\n",
            "      Weather Condition  Holiday/Promotion  Competitor Pricing Seasonality  \n",
            "0                 Rainy                  0               29.69      Autumn  \n",
            "1                 Sunny                  0               66.16      Autumn  \n",
            "2                 Sunny                  1               31.32      Summer  \n",
            "3                Cloudy                  1               34.74      Autumn  \n",
            "4                 Sunny                  0               68.95      Summer  \n",
            "...                 ...                ...                 ...         ...  \n",
            "73095             Snowy                  0               72.45      Winter  \n",
            "73096            Cloudy                  0               83.78      Autumn  \n",
            "73097             Rainy                  0               10.91      Winter  \n",
            "73098             Rainy                  0               55.80      Spring  \n",
            "73099             Rainy                  1               79.52      Spring  \n",
            "\n",
            "[73100 rows x 15 columns]>\n"
          ]
        }
      ]
    },
    {
      "cell_type": "code",
      "source": [
        "data.info()"
      ],
      "metadata": {
        "colab": {
          "base_uri": "https://localhost:8080/"
        },
        "id": "AcQAHezvoING",
        "outputId": "c1082ce5-fed7-4aa4-d409-318bb9ea05d7"
      },
      "execution_count": null,
      "outputs": [
        {
          "output_type": "stream",
          "name": "stdout",
          "text": [
            "<class 'pandas.core.frame.DataFrame'>\n",
            "RangeIndex: 73100 entries, 0 to 73099\n",
            "Data columns (total 15 columns):\n",
            " #   Column              Non-Null Count  Dtype  \n",
            "---  ------              --------------  -----  \n",
            " 0   Date                73100 non-null  object \n",
            " 1   Store ID            73100 non-null  object \n",
            " 2   Product ID          73100 non-null  object \n",
            " 3   Category            73100 non-null  object \n",
            " 4   Region              73100 non-null  object \n",
            " 5   Inventory Level     73100 non-null  int64  \n",
            " 6   Units Sold          73100 non-null  int64  \n",
            " 7   Units Ordered       73100 non-null  int64  \n",
            " 8   Demand Forecast     73100 non-null  float64\n",
            " 9   Price               73100 non-null  float64\n",
            " 10  Discount            73100 non-null  int64  \n",
            " 11  Weather Condition   73100 non-null  object \n",
            " 12  Holiday/Promotion   73100 non-null  int64  \n",
            " 13  Competitor Pricing  73100 non-null  float64\n",
            " 14  Seasonality         73100 non-null  object \n",
            "dtypes: float64(3), int64(5), object(7)\n",
            "memory usage: 8.4+ MB\n"
          ]
        }
      ]
    },
    {
      "cell_type": "code",
      "source": [
        "data.isnull()"
      ],
      "metadata": {
        "colab": {
          "base_uri": "https://localhost:8080/",
          "height": 441
        },
        "id": "QCtBF2tRo5vu",
        "outputId": "55e091da-d24f-4b29-882f-4ecd1e14c9a9"
      },
      "execution_count": null,
      "outputs": [
        {
          "output_type": "execute_result",
          "data": {
            "text/plain": [
              "        Date  Store ID  Product ID  Category  Region  Inventory Level  \\\n",
              "0      False     False       False     False   False            False   \n",
              "1      False     False       False     False   False            False   \n",
              "2      False     False       False     False   False            False   \n",
              "3      False     False       False     False   False            False   \n",
              "4      False     False       False     False   False            False   \n",
              "...      ...       ...         ...       ...     ...              ...   \n",
              "73095  False     False       False     False   False            False   \n",
              "73096  False     False       False     False   False            False   \n",
              "73097  False     False       False     False   False            False   \n",
              "73098  False     False       False     False   False            False   \n",
              "73099  False     False       False     False   False            False   \n",
              "\n",
              "       Units Sold  Units Ordered  Demand Forecast  Price  Discount  \\\n",
              "0           False          False            False  False     False   \n",
              "1           False          False            False  False     False   \n",
              "2           False          False            False  False     False   \n",
              "3           False          False            False  False     False   \n",
              "4           False          False            False  False     False   \n",
              "...           ...            ...              ...    ...       ...   \n",
              "73095       False          False            False  False     False   \n",
              "73096       False          False            False  False     False   \n",
              "73097       False          False            False  False     False   \n",
              "73098       False          False            False  False     False   \n",
              "73099       False          False            False  False     False   \n",
              "\n",
              "       Weather Condition  Holiday/Promotion  Competitor Pricing  Seasonality  \n",
              "0                  False              False               False        False  \n",
              "1                  False              False               False        False  \n",
              "2                  False              False               False        False  \n",
              "3                  False              False               False        False  \n",
              "4                  False              False               False        False  \n",
              "...                  ...                ...                 ...          ...  \n",
              "73095              False              False               False        False  \n",
              "73096              False              False               False        False  \n",
              "73097              False              False               False        False  \n",
              "73098              False              False               False        False  \n",
              "73099              False              False               False        False  \n",
              "\n",
              "[73100 rows x 15 columns]"
            ],
            "text/html": [
              "\n",
              "  <div id=\"df-4174709c-05e3-4216-b022-4ab6bcc0eda8\" class=\"colab-df-container\">\n",
              "    <div>\n",
              "<style scoped>\n",
              "    .dataframe tbody tr th:only-of-type {\n",
              "        vertical-align: middle;\n",
              "    }\n",
              "\n",
              "    .dataframe tbody tr th {\n",
              "        vertical-align: top;\n",
              "    }\n",
              "\n",
              "    .dataframe thead th {\n",
              "        text-align: right;\n",
              "    }\n",
              "</style>\n",
              "<table border=\"1\" class=\"dataframe\">\n",
              "  <thead>\n",
              "    <tr style=\"text-align: right;\">\n",
              "      <th></th>\n",
              "      <th>Date</th>\n",
              "      <th>Store ID</th>\n",
              "      <th>Product ID</th>\n",
              "      <th>Category</th>\n",
              "      <th>Region</th>\n",
              "      <th>Inventory Level</th>\n",
              "      <th>Units Sold</th>\n",
              "      <th>Units Ordered</th>\n",
              "      <th>Demand Forecast</th>\n",
              "      <th>Price</th>\n",
              "      <th>Discount</th>\n",
              "      <th>Weather Condition</th>\n",
              "      <th>Holiday/Promotion</th>\n",
              "      <th>Competitor Pricing</th>\n",
              "      <th>Seasonality</th>\n",
              "    </tr>\n",
              "  </thead>\n",
              "  <tbody>\n",
              "    <tr>\n",
              "      <th>0</th>\n",
              "      <td>False</td>\n",
              "      <td>False</td>\n",
              "      <td>False</td>\n",
              "      <td>False</td>\n",
              "      <td>False</td>\n",
              "      <td>False</td>\n",
              "      <td>False</td>\n",
              "      <td>False</td>\n",
              "      <td>False</td>\n",
              "      <td>False</td>\n",
              "      <td>False</td>\n",
              "      <td>False</td>\n",
              "      <td>False</td>\n",
              "      <td>False</td>\n",
              "      <td>False</td>\n",
              "    </tr>\n",
              "    <tr>\n",
              "      <th>1</th>\n",
              "      <td>False</td>\n",
              "      <td>False</td>\n",
              "      <td>False</td>\n",
              "      <td>False</td>\n",
              "      <td>False</td>\n",
              "      <td>False</td>\n",
              "      <td>False</td>\n",
              "      <td>False</td>\n",
              "      <td>False</td>\n",
              "      <td>False</td>\n",
              "      <td>False</td>\n",
              "      <td>False</td>\n",
              "      <td>False</td>\n",
              "      <td>False</td>\n",
              "      <td>False</td>\n",
              "    </tr>\n",
              "    <tr>\n",
              "      <th>2</th>\n",
              "      <td>False</td>\n",
              "      <td>False</td>\n",
              "      <td>False</td>\n",
              "      <td>False</td>\n",
              "      <td>False</td>\n",
              "      <td>False</td>\n",
              "      <td>False</td>\n",
              "      <td>False</td>\n",
              "      <td>False</td>\n",
              "      <td>False</td>\n",
              "      <td>False</td>\n",
              "      <td>False</td>\n",
              "      <td>False</td>\n",
              "      <td>False</td>\n",
              "      <td>False</td>\n",
              "    </tr>\n",
              "    <tr>\n",
              "      <th>3</th>\n",
              "      <td>False</td>\n",
              "      <td>False</td>\n",
              "      <td>False</td>\n",
              "      <td>False</td>\n",
              "      <td>False</td>\n",
              "      <td>False</td>\n",
              "      <td>False</td>\n",
              "      <td>False</td>\n",
              "      <td>False</td>\n",
              "      <td>False</td>\n",
              "      <td>False</td>\n",
              "      <td>False</td>\n",
              "      <td>False</td>\n",
              "      <td>False</td>\n",
              "      <td>False</td>\n",
              "    </tr>\n",
              "    <tr>\n",
              "      <th>4</th>\n",
              "      <td>False</td>\n",
              "      <td>False</td>\n",
              "      <td>False</td>\n",
              "      <td>False</td>\n",
              "      <td>False</td>\n",
              "      <td>False</td>\n",
              "      <td>False</td>\n",
              "      <td>False</td>\n",
              "      <td>False</td>\n",
              "      <td>False</td>\n",
              "      <td>False</td>\n",
              "      <td>False</td>\n",
              "      <td>False</td>\n",
              "      <td>False</td>\n",
              "      <td>False</td>\n",
              "    </tr>\n",
              "    <tr>\n",
              "      <th>...</th>\n",
              "      <td>...</td>\n",
              "      <td>...</td>\n",
              "      <td>...</td>\n",
              "      <td>...</td>\n",
              "      <td>...</td>\n",
              "      <td>...</td>\n",
              "      <td>...</td>\n",
              "      <td>...</td>\n",
              "      <td>...</td>\n",
              "      <td>...</td>\n",
              "      <td>...</td>\n",
              "      <td>...</td>\n",
              "      <td>...</td>\n",
              "      <td>...</td>\n",
              "      <td>...</td>\n",
              "    </tr>\n",
              "    <tr>\n",
              "      <th>73095</th>\n",
              "      <td>False</td>\n",
              "      <td>False</td>\n",
              "      <td>False</td>\n",
              "      <td>False</td>\n",
              "      <td>False</td>\n",
              "      <td>False</td>\n",
              "      <td>False</td>\n",
              "      <td>False</td>\n",
              "      <td>False</td>\n",
              "      <td>False</td>\n",
              "      <td>False</td>\n",
              "      <td>False</td>\n",
              "      <td>False</td>\n",
              "      <td>False</td>\n",
              "      <td>False</td>\n",
              "    </tr>\n",
              "    <tr>\n",
              "      <th>73096</th>\n",
              "      <td>False</td>\n",
              "      <td>False</td>\n",
              "      <td>False</td>\n",
              "      <td>False</td>\n",
              "      <td>False</td>\n",
              "      <td>False</td>\n",
              "      <td>False</td>\n",
              "      <td>False</td>\n",
              "      <td>False</td>\n",
              "      <td>False</td>\n",
              "      <td>False</td>\n",
              "      <td>False</td>\n",
              "      <td>False</td>\n",
              "      <td>False</td>\n",
              "      <td>False</td>\n",
              "    </tr>\n",
              "    <tr>\n",
              "      <th>73097</th>\n",
              "      <td>False</td>\n",
              "      <td>False</td>\n",
              "      <td>False</td>\n",
              "      <td>False</td>\n",
              "      <td>False</td>\n",
              "      <td>False</td>\n",
              "      <td>False</td>\n",
              "      <td>False</td>\n",
              "      <td>False</td>\n",
              "      <td>False</td>\n",
              "      <td>False</td>\n",
              "      <td>False</td>\n",
              "      <td>False</td>\n",
              "      <td>False</td>\n",
              "      <td>False</td>\n",
              "    </tr>\n",
              "    <tr>\n",
              "      <th>73098</th>\n",
              "      <td>False</td>\n",
              "      <td>False</td>\n",
              "      <td>False</td>\n",
              "      <td>False</td>\n",
              "      <td>False</td>\n",
              "      <td>False</td>\n",
              "      <td>False</td>\n",
              "      <td>False</td>\n",
              "      <td>False</td>\n",
              "      <td>False</td>\n",
              "      <td>False</td>\n",
              "      <td>False</td>\n",
              "      <td>False</td>\n",
              "      <td>False</td>\n",
              "      <td>False</td>\n",
              "    </tr>\n",
              "    <tr>\n",
              "      <th>73099</th>\n",
              "      <td>False</td>\n",
              "      <td>False</td>\n",
              "      <td>False</td>\n",
              "      <td>False</td>\n",
              "      <td>False</td>\n",
              "      <td>False</td>\n",
              "      <td>False</td>\n",
              "      <td>False</td>\n",
              "      <td>False</td>\n",
              "      <td>False</td>\n",
              "      <td>False</td>\n",
              "      <td>False</td>\n",
              "      <td>False</td>\n",
              "      <td>False</td>\n",
              "      <td>False</td>\n",
              "    </tr>\n",
              "  </tbody>\n",
              "</table>\n",
              "<p>73100 rows × 15 columns</p>\n",
              "</div>\n",
              "    <div class=\"colab-df-buttons\">\n",
              "\n",
              "  <div class=\"colab-df-container\">\n",
              "    <button class=\"colab-df-convert\" onclick=\"convertToInteractive('df-4174709c-05e3-4216-b022-4ab6bcc0eda8')\"\n",
              "            title=\"Convert this dataframe to an interactive table.\"\n",
              "            style=\"display:none;\">\n",
              "\n",
              "  <svg xmlns=\"http://www.w3.org/2000/svg\" height=\"24px\" viewBox=\"0 -960 960 960\">\n",
              "    <path d=\"M120-120v-720h720v720H120Zm60-500h600v-160H180v160Zm220 220h160v-160H400v160Zm0 220h160v-160H400v160ZM180-400h160v-160H180v160Zm440 0h160v-160H620v160ZM180-180h160v-160H180v160Zm440 0h160v-160H620v160Z\"/>\n",
              "  </svg>\n",
              "    </button>\n",
              "\n",
              "  <style>\n",
              "    .colab-df-container {\n",
              "      display:flex;\n",
              "      gap: 12px;\n",
              "    }\n",
              "\n",
              "    .colab-df-convert {\n",
              "      background-color: #E8F0FE;\n",
              "      border: none;\n",
              "      border-radius: 50%;\n",
              "      cursor: pointer;\n",
              "      display: none;\n",
              "      fill: #1967D2;\n",
              "      height: 32px;\n",
              "      padding: 0 0 0 0;\n",
              "      width: 32px;\n",
              "    }\n",
              "\n",
              "    .colab-df-convert:hover {\n",
              "      background-color: #E2EBFA;\n",
              "      box-shadow: 0px 1px 2px rgba(60, 64, 67, 0.3), 0px 1px 3px 1px rgba(60, 64, 67, 0.15);\n",
              "      fill: #174EA6;\n",
              "    }\n",
              "\n",
              "    .colab-df-buttons div {\n",
              "      margin-bottom: 4px;\n",
              "    }\n",
              "\n",
              "    [theme=dark] .colab-df-convert {\n",
              "      background-color: #3B4455;\n",
              "      fill: #D2E3FC;\n",
              "    }\n",
              "\n",
              "    [theme=dark] .colab-df-convert:hover {\n",
              "      background-color: #434B5C;\n",
              "      box-shadow: 0px 1px 3px 1px rgba(0, 0, 0, 0.15);\n",
              "      filter: drop-shadow(0px 1px 2px rgba(0, 0, 0, 0.3));\n",
              "      fill: #FFFFFF;\n",
              "    }\n",
              "  </style>\n",
              "\n",
              "    <script>\n",
              "      const buttonEl =\n",
              "        document.querySelector('#df-4174709c-05e3-4216-b022-4ab6bcc0eda8 button.colab-df-convert');\n",
              "      buttonEl.style.display =\n",
              "        google.colab.kernel.accessAllowed ? 'block' : 'none';\n",
              "\n",
              "      async function convertToInteractive(key) {\n",
              "        const element = document.querySelector('#df-4174709c-05e3-4216-b022-4ab6bcc0eda8');\n",
              "        const dataTable =\n",
              "          await google.colab.kernel.invokeFunction('convertToInteractive',\n",
              "                                                    [key], {});\n",
              "        if (!dataTable) return;\n",
              "\n",
              "        const docLinkHtml = 'Like what you see? Visit the ' +\n",
              "          '<a target=\"_blank\" href=https://colab.research.google.com/notebooks/data_table.ipynb>data table notebook</a>'\n",
              "          + ' to learn more about interactive tables.';\n",
              "        element.innerHTML = '';\n",
              "        dataTable['output_type'] = 'display_data';\n",
              "        await google.colab.output.renderOutput(dataTable, element);\n",
              "        const docLink = document.createElement('div');\n",
              "        docLink.innerHTML = docLinkHtml;\n",
              "        element.appendChild(docLink);\n",
              "      }\n",
              "    </script>\n",
              "  </div>\n",
              "\n",
              "\n",
              "<div id=\"df-9be25a33-a3e1-43c5-8464-aa268c947935\">\n",
              "  <button class=\"colab-df-quickchart\" onclick=\"quickchart('df-9be25a33-a3e1-43c5-8464-aa268c947935')\"\n",
              "            title=\"Suggest charts\"\n",
              "            style=\"display:none;\">\n",
              "\n",
              "<svg xmlns=\"http://www.w3.org/2000/svg\" height=\"24px\"viewBox=\"0 0 24 24\"\n",
              "     width=\"24px\">\n",
              "    <g>\n",
              "        <path d=\"M19 3H5c-1.1 0-2 .9-2 2v14c0 1.1.9 2 2 2h14c1.1 0 2-.9 2-2V5c0-1.1-.9-2-2-2zM9 17H7v-7h2v7zm4 0h-2V7h2v10zm4 0h-2v-4h2v4z\"/>\n",
              "    </g>\n",
              "</svg>\n",
              "  </button>\n",
              "\n",
              "<style>\n",
              "  .colab-df-quickchart {\n",
              "      --bg-color: #E8F0FE;\n",
              "      --fill-color: #1967D2;\n",
              "      --hover-bg-color: #E2EBFA;\n",
              "      --hover-fill-color: #174EA6;\n",
              "      --disabled-fill-color: #AAA;\n",
              "      --disabled-bg-color: #DDD;\n",
              "  }\n",
              "\n",
              "  [theme=dark] .colab-df-quickchart {\n",
              "      --bg-color: #3B4455;\n",
              "      --fill-color: #D2E3FC;\n",
              "      --hover-bg-color: #434B5C;\n",
              "      --hover-fill-color: #FFFFFF;\n",
              "      --disabled-bg-color: #3B4455;\n",
              "      --disabled-fill-color: #666;\n",
              "  }\n",
              "\n",
              "  .colab-df-quickchart {\n",
              "    background-color: var(--bg-color);\n",
              "    border: none;\n",
              "    border-radius: 50%;\n",
              "    cursor: pointer;\n",
              "    display: none;\n",
              "    fill: var(--fill-color);\n",
              "    height: 32px;\n",
              "    padding: 0;\n",
              "    width: 32px;\n",
              "  }\n",
              "\n",
              "  .colab-df-quickchart:hover {\n",
              "    background-color: var(--hover-bg-color);\n",
              "    box-shadow: 0 1px 2px rgba(60, 64, 67, 0.3), 0 1px 3px 1px rgba(60, 64, 67, 0.15);\n",
              "    fill: var(--button-hover-fill-color);\n",
              "  }\n",
              "\n",
              "  .colab-df-quickchart-complete:disabled,\n",
              "  .colab-df-quickchart-complete:disabled:hover {\n",
              "    background-color: var(--disabled-bg-color);\n",
              "    fill: var(--disabled-fill-color);\n",
              "    box-shadow: none;\n",
              "  }\n",
              "\n",
              "  .colab-df-spinner {\n",
              "    border: 2px solid var(--fill-color);\n",
              "    border-color: transparent;\n",
              "    border-bottom-color: var(--fill-color);\n",
              "    animation:\n",
              "      spin 1s steps(1) infinite;\n",
              "  }\n",
              "\n",
              "  @keyframes spin {\n",
              "    0% {\n",
              "      border-color: transparent;\n",
              "      border-bottom-color: var(--fill-color);\n",
              "      border-left-color: var(--fill-color);\n",
              "    }\n",
              "    20% {\n",
              "      border-color: transparent;\n",
              "      border-left-color: var(--fill-color);\n",
              "      border-top-color: var(--fill-color);\n",
              "    }\n",
              "    30% {\n",
              "      border-color: transparent;\n",
              "      border-left-color: var(--fill-color);\n",
              "      border-top-color: var(--fill-color);\n",
              "      border-right-color: var(--fill-color);\n",
              "    }\n",
              "    40% {\n",
              "      border-color: transparent;\n",
              "      border-right-color: var(--fill-color);\n",
              "      border-top-color: var(--fill-color);\n",
              "    }\n",
              "    60% {\n",
              "      border-color: transparent;\n",
              "      border-right-color: var(--fill-color);\n",
              "    }\n",
              "    80% {\n",
              "      border-color: transparent;\n",
              "      border-right-color: var(--fill-color);\n",
              "      border-bottom-color: var(--fill-color);\n",
              "    }\n",
              "    90% {\n",
              "      border-color: transparent;\n",
              "      border-bottom-color: var(--fill-color);\n",
              "    }\n",
              "  }\n",
              "</style>\n",
              "\n",
              "  <script>\n",
              "    async function quickchart(key) {\n",
              "      const quickchartButtonEl =\n",
              "        document.querySelector('#' + key + ' button');\n",
              "      quickchartButtonEl.disabled = true;  // To prevent multiple clicks.\n",
              "      quickchartButtonEl.classList.add('colab-df-spinner');\n",
              "      try {\n",
              "        const charts = await google.colab.kernel.invokeFunction(\n",
              "            'suggestCharts', [key], {});\n",
              "      } catch (error) {\n",
              "        console.error('Error during call to suggestCharts:', error);\n",
              "      }\n",
              "      quickchartButtonEl.classList.remove('colab-df-spinner');\n",
              "      quickchartButtonEl.classList.add('colab-df-quickchart-complete');\n",
              "    }\n",
              "    (() => {\n",
              "      let quickchartButtonEl =\n",
              "        document.querySelector('#df-9be25a33-a3e1-43c5-8464-aa268c947935 button');\n",
              "      quickchartButtonEl.style.display =\n",
              "        google.colab.kernel.accessAllowed ? 'block' : 'none';\n",
              "    })();\n",
              "  </script>\n",
              "</div>\n",
              "\n",
              "    </div>\n",
              "  </div>\n"
            ],
            "application/vnd.google.colaboratory.intrinsic+json": {
              "type": "dataframe",
              "summary": "{\n  \"name\": \"data\",\n  \"rows\": 73100,\n  \"fields\": [\n    {\n      \"column\": \"Date\",\n      \"properties\": {\n        \"dtype\": \"boolean\",\n        \"num_unique_values\": 1,\n        \"samples\": [\n          false\n        ],\n        \"semantic_type\": \"\",\n        \"description\": \"\"\n      }\n    },\n    {\n      \"column\": \"Store ID\",\n      \"properties\": {\n        \"dtype\": \"boolean\",\n        \"num_unique_values\": 1,\n        \"samples\": [\n          false\n        ],\n        \"semantic_type\": \"\",\n        \"description\": \"\"\n      }\n    },\n    {\n      \"column\": \"Product ID\",\n      \"properties\": {\n        \"dtype\": \"boolean\",\n        \"num_unique_values\": 1,\n        \"samples\": [\n          false\n        ],\n        \"semantic_type\": \"\",\n        \"description\": \"\"\n      }\n    },\n    {\n      \"column\": \"Category\",\n      \"properties\": {\n        \"dtype\": \"boolean\",\n        \"num_unique_values\": 1,\n        \"samples\": [\n          false\n        ],\n        \"semantic_type\": \"\",\n        \"description\": \"\"\n      }\n    },\n    {\n      \"column\": \"Region\",\n      \"properties\": {\n        \"dtype\": \"boolean\",\n        \"num_unique_values\": 1,\n        \"samples\": [\n          false\n        ],\n        \"semantic_type\": \"\",\n        \"description\": \"\"\n      }\n    },\n    {\n      \"column\": \"Inventory Level\",\n      \"properties\": {\n        \"dtype\": \"boolean\",\n        \"num_unique_values\": 1,\n        \"samples\": [\n          false\n        ],\n        \"semantic_type\": \"\",\n        \"description\": \"\"\n      }\n    },\n    {\n      \"column\": \"Units Sold\",\n      \"properties\": {\n        \"dtype\": \"boolean\",\n        \"num_unique_values\": 1,\n        \"samples\": [\n          false\n        ],\n        \"semantic_type\": \"\",\n        \"description\": \"\"\n      }\n    },\n    {\n      \"column\": \"Units Ordered\",\n      \"properties\": {\n        \"dtype\": \"boolean\",\n        \"num_unique_values\": 1,\n        \"samples\": [\n          false\n        ],\n        \"semantic_type\": \"\",\n        \"description\": \"\"\n      }\n    },\n    {\n      \"column\": \"Demand Forecast\",\n      \"properties\": {\n        \"dtype\": \"boolean\",\n        \"num_unique_values\": 1,\n        \"samples\": [\n          false\n        ],\n        \"semantic_type\": \"\",\n        \"description\": \"\"\n      }\n    },\n    {\n      \"column\": \"Price\",\n      \"properties\": {\n        \"dtype\": \"boolean\",\n        \"num_unique_values\": 1,\n        \"samples\": [\n          false\n        ],\n        \"semantic_type\": \"\",\n        \"description\": \"\"\n      }\n    },\n    {\n      \"column\": \"Discount\",\n      \"properties\": {\n        \"dtype\": \"boolean\",\n        \"num_unique_values\": 1,\n        \"samples\": [\n          false\n        ],\n        \"semantic_type\": \"\",\n        \"description\": \"\"\n      }\n    },\n    {\n      \"column\": \"Weather Condition\",\n      \"properties\": {\n        \"dtype\": \"boolean\",\n        \"num_unique_values\": 1,\n        \"samples\": [\n          false\n        ],\n        \"semantic_type\": \"\",\n        \"description\": \"\"\n      }\n    },\n    {\n      \"column\": \"Holiday/Promotion\",\n      \"properties\": {\n        \"dtype\": \"boolean\",\n        \"num_unique_values\": 1,\n        \"samples\": [\n          false\n        ],\n        \"semantic_type\": \"\",\n        \"description\": \"\"\n      }\n    },\n    {\n      \"column\": \"Competitor Pricing\",\n      \"properties\": {\n        \"dtype\": \"boolean\",\n        \"num_unique_values\": 1,\n        \"samples\": [\n          false\n        ],\n        \"semantic_type\": \"\",\n        \"description\": \"\"\n      }\n    },\n    {\n      \"column\": \"Seasonality\",\n      \"properties\": {\n        \"dtype\": \"boolean\",\n        \"num_unique_values\": 1,\n        \"samples\": [\n          false\n        ],\n        \"semantic_type\": \"\",\n        \"description\": \"\"\n      }\n    }\n  ]\n}"
            }
          },
          "metadata": {},
          "execution_count": 57
        }
      ]
    },
    {
      "cell_type": "code",
      "source": [
        "print(data[\"Region\"])"
      ],
      "metadata": {
        "colab": {
          "base_uri": "https://localhost:8080/"
        },
        "id": "jPF-zc1Eii47",
        "outputId": "5de41b38-0453-40e8-cdaf-fd348fd595ac"
      },
      "execution_count": null,
      "outputs": [
        {
          "output_type": "stream",
          "name": "stdout",
          "text": [
            "0        North\n",
            "1        South\n",
            "2         West\n",
            "3        North\n",
            "4         East\n",
            "         ...  \n",
            "73095     East\n",
            "73096    North\n",
            "73097     West\n",
            "73098     East\n",
            "73099     East\n",
            "Name: Region, Length: 73100, dtype: object\n"
          ]
        }
      ]
    },
    {
      "cell_type": "code",
      "source": [
        "print(data[1:3])"
      ],
      "metadata": {
        "colab": {
          "base_uri": "https://localhost:8080/"
        },
        "id": "AgUuzE3BpMKe",
        "outputId": "0904a4da-96bc-4507-c3c2-ed1a68098ec7"
      },
      "execution_count": null,
      "outputs": [
        {
          "output_type": "stream",
          "name": "stdout",
          "text": [
            "         Date Store ID Product ID Category Region  Inventory Level  \\\n",
            "1  01-01-2022     S001      P0002     Toys  South              204   \n",
            "2  01-01-2022     S001      P0003     Toys   West              102   \n",
            "\n",
            "   Units Sold  Units Ordered  Demand Forecast  Price  Discount  \\\n",
            "1         150             66           144.04  63.01        20   \n",
            "2          65             51            74.02  27.99        10   \n",
            "\n",
            "  Weather Condition  Holiday/Promotion  Competitor Pricing Seasonality  \n",
            "1             Sunny                  0               66.16      Autumn  \n",
            "2             Sunny                  1               31.32      Summer  \n"
          ]
        }
      ]
    },
    {
      "cell_type": "code",
      "source": [
        "print(data.loc[0])"
      ],
      "metadata": {
        "colab": {
          "base_uri": "https://localhost:8080/"
        },
        "id": "FykoWKEcii7L",
        "outputId": "09b0c23e-0a23-4704-bc36-ab5e43ef73a0"
      },
      "execution_count": null,
      "outputs": [
        {
          "output_type": "stream",
          "name": "stdout",
          "text": [
            "Date                  01-01-2022\n",
            "Store ID                    S001\n",
            "Product ID                 P0001\n",
            "Category               Groceries\n",
            "Region                     North\n",
            "Inventory Level              231\n",
            "Units Sold                   127\n",
            "Units Ordered                 55\n",
            "Demand Forecast           135.47\n",
            "Price                       33.5\n",
            "Discount                      20\n",
            "Weather Condition          Rainy\n",
            "Holiday/Promotion              0\n",
            "Competitor Pricing         29.69\n",
            "Seasonality               Autumn\n",
            "Name: 0, dtype: object\n"
          ]
        }
      ]
    },
    {
      "cell_type": "code",
      "source": [
        "print(data.iloc[0])"
      ],
      "metadata": {
        "colab": {
          "base_uri": "https://localhost:8080/"
        },
        "id": "TIYt_QoQii9k",
        "outputId": "d5a14e87-13f7-4c17-85ee-9c96fb9b258c"
      },
      "execution_count": null,
      "outputs": [
        {
          "output_type": "stream",
          "name": "stdout",
          "text": [
            "Date                  01-01-2022\n",
            "Store ID                    S001\n",
            "Product ID                 P0001\n",
            "Category               Groceries\n",
            "Region                     North\n",
            "Inventory Level              231\n",
            "Units Sold                   127\n",
            "Units Ordered                 55\n",
            "Demand Forecast           135.47\n",
            "Price                       33.5\n",
            "Discount                      20\n",
            "Weather Condition          Rainy\n",
            "Holiday/Promotion              0\n",
            "Competitor Pricing         29.69\n",
            "Seasonality               Autumn\n",
            "Name: 0, dtype: object\n"
          ]
        }
      ]
    },
    {
      "cell_type": "code",
      "source": [
        "print(data.iloc[:, [0, 2]])"
      ],
      "metadata": {
        "colab": {
          "base_uri": "https://localhost:8080/"
        },
        "id": "0Ba-B2Q_jhk7",
        "outputId": "85af5404-a617-473a-e78a-7eb388a57fc3"
      },
      "execution_count": null,
      "outputs": [
        {
          "output_type": "stream",
          "name": "stdout",
          "text": [
            "             Date Product ID\n",
            "0      01-01-2022      P0001\n",
            "1      01-01-2022      P0002\n",
            "2      01-01-2022      P0003\n",
            "3      01-01-2022      P0004\n",
            "4      01-01-2022      P0005\n",
            "...           ...        ...\n",
            "73095  01-01-2024      P0016\n",
            "73096  01-01-2024      P0017\n",
            "73097  01-01-2024      P0018\n",
            "73098  01-01-2024      P0019\n",
            "73099  01-01-2024      P0020\n",
            "\n",
            "[73100 rows x 2 columns]\n"
          ]
        }
      ]
    },
    {
      "cell_type": "code",
      "source": [
        "print(data.isnull())"
      ],
      "metadata": {
        "colab": {
          "base_uri": "https://localhost:8080/"
        },
        "id": "jLXoUKAOjhn3",
        "outputId": "d771e00c-7b63-4729-bd55-63a73c13ab4d"
      },
      "execution_count": null,
      "outputs": [
        {
          "output_type": "stream",
          "name": "stdout",
          "text": [
            "        Date  Store ID  Product ID  Category  Region  Inventory Level  \\\n",
            "0      False     False       False     False   False            False   \n",
            "1      False     False       False     False   False            False   \n",
            "2      False     False       False     False   False            False   \n",
            "3      False     False       False     False   False            False   \n",
            "4      False     False       False     False   False            False   \n",
            "...      ...       ...         ...       ...     ...              ...   \n",
            "73095  False     False       False     False   False            False   \n",
            "73096  False     False       False     False   False            False   \n",
            "73097  False     False       False     False   False            False   \n",
            "73098  False     False       False     False   False            False   \n",
            "73099  False     False       False     False   False            False   \n",
            "\n",
            "       Units Sold  Units Ordered  Demand Forecast  Price  Discount  \\\n",
            "0           False          False            False  False     False   \n",
            "1           False          False            False  False     False   \n",
            "2           False          False            False  False     False   \n",
            "3           False          False            False  False     False   \n",
            "4           False          False            False  False     False   \n",
            "...           ...            ...              ...    ...       ...   \n",
            "73095       False          False            False  False     False   \n",
            "73096       False          False            False  False     False   \n",
            "73097       False          False            False  False     False   \n",
            "73098       False          False            False  False     False   \n",
            "73099       False          False            False  False     False   \n",
            "\n",
            "       Weather Condition  Holiday/Promotion  Competitor Pricing  Seasonality  \n",
            "0                  False              False               False        False  \n",
            "1                  False              False               False        False  \n",
            "2                  False              False               False        False  \n",
            "3                  False              False               False        False  \n",
            "4                  False              False               False        False  \n",
            "...                  ...                ...                 ...          ...  \n",
            "73095              False              False               False        False  \n",
            "73096              False              False               False        False  \n",
            "73097              False              False               False        False  \n",
            "73098              False              False               False        False  \n",
            "73099              False              False               False        False  \n",
            "\n",
            "[73100 rows x 15 columns]\n"
          ]
        }
      ]
    },
    {
      "cell_type": "code",
      "source": [
        "clean_data = data.dropna()"
      ],
      "metadata": {
        "id": "L5ffFXiEjhrC"
      },
      "execution_count": null,
      "outputs": []
    },
    {
      "cell_type": "code",
      "source": [
        "data[\"Units Sold\"].fillna(25, inplace=True)"
      ],
      "metadata": {
        "colab": {
          "base_uri": "https://localhost:8080/"
        },
        "id": "6BAo_G8zkAKi",
        "outputId": "f9e194d4-9dd4-4e99-e808-1856e75e7e78"
      },
      "execution_count": null,
      "outputs": [
        {
          "output_type": "stream",
          "name": "stderr",
          "text": [
            "<ipython-input-65-e582f4eec2ab>:1: FutureWarning: A value is trying to be set on a copy of a DataFrame or Series through chained assignment using an inplace method.\n",
            "The behavior will change in pandas 3.0. This inplace method will never work because the intermediate object on which we are setting values always behaves as a copy.\n",
            "\n",
            "For example, when doing 'df[col].method(value, inplace=True)', try using 'df.method({col: value}, inplace=True)' or df[col] = df[col].method(value) instead, to perform the operation inplace on the original object.\n",
            "\n",
            "\n",
            "  data[\"Units Sold\"].fillna(25, inplace=True)\n"
          ]
        }
      ]
    },
    {
      "cell_type": "code",
      "source": [
        "data.replace(\"Toys \", \"Games\", inplace=True)"
      ],
      "metadata": {
        "id": "qvsjDP2_kANW"
      },
      "execution_count": null,
      "outputs": []
    },
    {
      "cell_type": "code",
      "source": [
        "data.rename(columns={\"Units Sold\": \"Solded Units\"}, inplace=True)"
      ],
      "metadata": {
        "id": "0Nu0GEVkkAP2"
      },
      "execution_count": null,
      "outputs": []
    },
    {
      "cell_type": "code",
      "source": [
        "print(data[\"Solded Units\"].sum())"
      ],
      "metadata": {
        "colab": {
          "base_uri": "https://localhost:8080/"
        },
        "id": "yqNROP-jkASc",
        "outputId": "6cfe9f63-d329-46f2-97df-16f11a8437d0"
      },
      "execution_count": null,
      "outputs": [
        {
          "output_type": "stream",
          "name": "stdout",
          "text": [
            "9975582\n"
          ]
        }
      ]
    },
    {
      "cell_type": "code",
      "source": [
        "print(data[\"Solded Units\"].mean())"
      ],
      "metadata": {
        "colab": {
          "base_uri": "https://localhost:8080/"
        },
        "id": "CYlj6apMkAUv",
        "outputId": "9d31b849-4321-40a7-f3a0-29231c299979"
      },
      "execution_count": null,
      "outputs": [
        {
          "output_type": "stream",
          "name": "stdout",
          "text": [
            "136.46487004103966\n"
          ]
        }
      ]
    },
    {
      "cell_type": "code",
      "source": [
        "print(data[\"Solded Units\"].count())"
      ],
      "metadata": {
        "colab": {
          "base_uri": "https://localhost:8080/"
        },
        "id": "U59FMo94kAXb",
        "outputId": "c4aad7f7-2795-4259-daa7-8bc6d62c63ad"
      },
      "execution_count": null,
      "outputs": [
        {
          "output_type": "stream",
          "name": "stdout",
          "text": [
            "73100\n"
          ]
        }
      ]
    },
    {
      "cell_type": "code",
      "source": [
        "sorted_data = data.sort_values(by=\"Store ID\")\n",
        "sorted_data"
      ],
      "metadata": {
        "colab": {
          "base_uri": "https://localhost:8080/",
          "height": 615
        },
        "id": "_-lw0a1xkAaJ",
        "outputId": "368c6f6c-26d5-421c-d1ca-538a5079ead2"
      },
      "execution_count": null,
      "outputs": [
        {
          "output_type": "execute_result",
          "data": {
            "text/plain": [
              "             Date Store ID Product ID     Category Region  Inventory Level  \\\n",
              "0      01-01-2022     S001      P0001    Groceries  North              231   \n",
              "60402  28-08-2023     S001      P0003         Toys   East              326   \n",
              "60401  28-08-2023     S001      P0002  Electronics   East              127   \n",
              "60400  28-08-2023     S001      P0001  Electronics  North              190   \n",
              "12700  08-05-2022     S001      P0001     Clothing  South              103   \n",
              "...           ...      ...        ...          ...    ...              ...   \n",
              "60399  27-08-2023     S005      P0020    Furniture  South              363   \n",
              "12699  07-05-2022     S005      P0020    Furniture  North              203   \n",
              "12698  07-05-2022     S005      P0019     Clothing   West               77   \n",
              "60387  27-08-2023     S005      P0008     Clothing   East              417   \n",
              "73099  01-01-2024     S005      P0020    Groceries   East              117   \n",
              "\n",
              "       Solded Units  Units Ordered  Demand Forecast  Price  Discount  \\\n",
              "0               127             55           135.47  33.50        20   \n",
              "60402           226             26           245.65  49.62        15   \n",
              "60401             5            131            -0.17  62.05         0   \n",
              "60400           189            159           194.14  94.51        15   \n",
              "12700             6            120            13.10  30.86         5   \n",
              "...             ...            ...              ...    ...       ...   \n",
              "60399            72             76            74.53  30.65         0   \n",
              "12699           191            181           188.76  77.58        20   \n",
              "12698             2             52            -5.92  55.08         5   \n",
              "60387           115            189           120.75  38.19        20   \n",
              "73099             6            165             2.33  78.39        20   \n",
              "\n",
              "      Weather Condition  Holiday/Promotion  Competitor Pricing Seasonality  \n",
              "0                 Rainy                  0               29.69      Autumn  \n",
              "60402            Cloudy                  0               49.89      Summer  \n",
              "60401             Rainy                  0               58.40      Summer  \n",
              "60400             Sunny                  0               95.96      Spring  \n",
              "12700             Snowy                  0               35.02      Spring  \n",
              "...                 ...                ...                 ...         ...  \n",
              "60399             Sunny                  0               33.26      Summer  \n",
              "12699             Snowy                  1               73.03      Autumn  \n",
              "12698             Rainy                  0               56.29      Spring  \n",
              "60387            Cloudy                  1               41.24      Summer  \n",
              "73099             Rainy                  1               79.52      Spring  \n",
              "\n",
              "[73100 rows x 15 columns]"
            ],
            "text/html": [
              "\n",
              "  <div id=\"df-c81f86e7-4084-447a-9117-d03b66f1386b\" class=\"colab-df-container\">\n",
              "    <div>\n",
              "<style scoped>\n",
              "    .dataframe tbody tr th:only-of-type {\n",
              "        vertical-align: middle;\n",
              "    }\n",
              "\n",
              "    .dataframe tbody tr th {\n",
              "        vertical-align: top;\n",
              "    }\n",
              "\n",
              "    .dataframe thead th {\n",
              "        text-align: right;\n",
              "    }\n",
              "</style>\n",
              "<table border=\"1\" class=\"dataframe\">\n",
              "  <thead>\n",
              "    <tr style=\"text-align: right;\">\n",
              "      <th></th>\n",
              "      <th>Date</th>\n",
              "      <th>Store ID</th>\n",
              "      <th>Product ID</th>\n",
              "      <th>Category</th>\n",
              "      <th>Region</th>\n",
              "      <th>Inventory Level</th>\n",
              "      <th>Solded Units</th>\n",
              "      <th>Units Ordered</th>\n",
              "      <th>Demand Forecast</th>\n",
              "      <th>Price</th>\n",
              "      <th>Discount</th>\n",
              "      <th>Weather Condition</th>\n",
              "      <th>Holiday/Promotion</th>\n",
              "      <th>Competitor Pricing</th>\n",
              "      <th>Seasonality</th>\n",
              "    </tr>\n",
              "  </thead>\n",
              "  <tbody>\n",
              "    <tr>\n",
              "      <th>0</th>\n",
              "      <td>01-01-2022</td>\n",
              "      <td>S001</td>\n",
              "      <td>P0001</td>\n",
              "      <td>Groceries</td>\n",
              "      <td>North</td>\n",
              "      <td>231</td>\n",
              "      <td>127</td>\n",
              "      <td>55</td>\n",
              "      <td>135.47</td>\n",
              "      <td>33.50</td>\n",
              "      <td>20</td>\n",
              "      <td>Rainy</td>\n",
              "      <td>0</td>\n",
              "      <td>29.69</td>\n",
              "      <td>Autumn</td>\n",
              "    </tr>\n",
              "    <tr>\n",
              "      <th>60402</th>\n",
              "      <td>28-08-2023</td>\n",
              "      <td>S001</td>\n",
              "      <td>P0003</td>\n",
              "      <td>Toys</td>\n",
              "      <td>East</td>\n",
              "      <td>326</td>\n",
              "      <td>226</td>\n",
              "      <td>26</td>\n",
              "      <td>245.65</td>\n",
              "      <td>49.62</td>\n",
              "      <td>15</td>\n",
              "      <td>Cloudy</td>\n",
              "      <td>0</td>\n",
              "      <td>49.89</td>\n",
              "      <td>Summer</td>\n",
              "    </tr>\n",
              "    <tr>\n",
              "      <th>60401</th>\n",
              "      <td>28-08-2023</td>\n",
              "      <td>S001</td>\n",
              "      <td>P0002</td>\n",
              "      <td>Electronics</td>\n",
              "      <td>East</td>\n",
              "      <td>127</td>\n",
              "      <td>5</td>\n",
              "      <td>131</td>\n",
              "      <td>-0.17</td>\n",
              "      <td>62.05</td>\n",
              "      <td>0</td>\n",
              "      <td>Rainy</td>\n",
              "      <td>0</td>\n",
              "      <td>58.40</td>\n",
              "      <td>Summer</td>\n",
              "    </tr>\n",
              "    <tr>\n",
              "      <th>60400</th>\n",
              "      <td>28-08-2023</td>\n",
              "      <td>S001</td>\n",
              "      <td>P0001</td>\n",
              "      <td>Electronics</td>\n",
              "      <td>North</td>\n",
              "      <td>190</td>\n",
              "      <td>189</td>\n",
              "      <td>159</td>\n",
              "      <td>194.14</td>\n",
              "      <td>94.51</td>\n",
              "      <td>15</td>\n",
              "      <td>Sunny</td>\n",
              "      <td>0</td>\n",
              "      <td>95.96</td>\n",
              "      <td>Spring</td>\n",
              "    </tr>\n",
              "    <tr>\n",
              "      <th>12700</th>\n",
              "      <td>08-05-2022</td>\n",
              "      <td>S001</td>\n",
              "      <td>P0001</td>\n",
              "      <td>Clothing</td>\n",
              "      <td>South</td>\n",
              "      <td>103</td>\n",
              "      <td>6</td>\n",
              "      <td>120</td>\n",
              "      <td>13.10</td>\n",
              "      <td>30.86</td>\n",
              "      <td>5</td>\n",
              "      <td>Snowy</td>\n",
              "      <td>0</td>\n",
              "      <td>35.02</td>\n",
              "      <td>Spring</td>\n",
              "    </tr>\n",
              "    <tr>\n",
              "      <th>...</th>\n",
              "      <td>...</td>\n",
              "      <td>...</td>\n",
              "      <td>...</td>\n",
              "      <td>...</td>\n",
              "      <td>...</td>\n",
              "      <td>...</td>\n",
              "      <td>...</td>\n",
              "      <td>...</td>\n",
              "      <td>...</td>\n",
              "      <td>...</td>\n",
              "      <td>...</td>\n",
              "      <td>...</td>\n",
              "      <td>...</td>\n",
              "      <td>...</td>\n",
              "      <td>...</td>\n",
              "    </tr>\n",
              "    <tr>\n",
              "      <th>60399</th>\n",
              "      <td>27-08-2023</td>\n",
              "      <td>S005</td>\n",
              "      <td>P0020</td>\n",
              "      <td>Furniture</td>\n",
              "      <td>South</td>\n",
              "      <td>363</td>\n",
              "      <td>72</td>\n",
              "      <td>76</td>\n",
              "      <td>74.53</td>\n",
              "      <td>30.65</td>\n",
              "      <td>0</td>\n",
              "      <td>Sunny</td>\n",
              "      <td>0</td>\n",
              "      <td>33.26</td>\n",
              "      <td>Summer</td>\n",
              "    </tr>\n",
              "    <tr>\n",
              "      <th>12699</th>\n",
              "      <td>07-05-2022</td>\n",
              "      <td>S005</td>\n",
              "      <td>P0020</td>\n",
              "      <td>Furniture</td>\n",
              "      <td>North</td>\n",
              "      <td>203</td>\n",
              "      <td>191</td>\n",
              "      <td>181</td>\n",
              "      <td>188.76</td>\n",
              "      <td>77.58</td>\n",
              "      <td>20</td>\n",
              "      <td>Snowy</td>\n",
              "      <td>1</td>\n",
              "      <td>73.03</td>\n",
              "      <td>Autumn</td>\n",
              "    </tr>\n",
              "    <tr>\n",
              "      <th>12698</th>\n",
              "      <td>07-05-2022</td>\n",
              "      <td>S005</td>\n",
              "      <td>P0019</td>\n",
              "      <td>Clothing</td>\n",
              "      <td>West</td>\n",
              "      <td>77</td>\n",
              "      <td>2</td>\n",
              "      <td>52</td>\n",
              "      <td>-5.92</td>\n",
              "      <td>55.08</td>\n",
              "      <td>5</td>\n",
              "      <td>Rainy</td>\n",
              "      <td>0</td>\n",
              "      <td>56.29</td>\n",
              "      <td>Spring</td>\n",
              "    </tr>\n",
              "    <tr>\n",
              "      <th>60387</th>\n",
              "      <td>27-08-2023</td>\n",
              "      <td>S005</td>\n",
              "      <td>P0008</td>\n",
              "      <td>Clothing</td>\n",
              "      <td>East</td>\n",
              "      <td>417</td>\n",
              "      <td>115</td>\n",
              "      <td>189</td>\n",
              "      <td>120.75</td>\n",
              "      <td>38.19</td>\n",
              "      <td>20</td>\n",
              "      <td>Cloudy</td>\n",
              "      <td>1</td>\n",
              "      <td>41.24</td>\n",
              "      <td>Summer</td>\n",
              "    </tr>\n",
              "    <tr>\n",
              "      <th>73099</th>\n",
              "      <td>01-01-2024</td>\n",
              "      <td>S005</td>\n",
              "      <td>P0020</td>\n",
              "      <td>Groceries</td>\n",
              "      <td>East</td>\n",
              "      <td>117</td>\n",
              "      <td>6</td>\n",
              "      <td>165</td>\n",
              "      <td>2.33</td>\n",
              "      <td>78.39</td>\n",
              "      <td>20</td>\n",
              "      <td>Rainy</td>\n",
              "      <td>1</td>\n",
              "      <td>79.52</td>\n",
              "      <td>Spring</td>\n",
              "    </tr>\n",
              "  </tbody>\n",
              "</table>\n",
              "<p>73100 rows × 15 columns</p>\n",
              "</div>\n",
              "    <div class=\"colab-df-buttons\">\n",
              "\n",
              "  <div class=\"colab-df-container\">\n",
              "    <button class=\"colab-df-convert\" onclick=\"convertToInteractive('df-c81f86e7-4084-447a-9117-d03b66f1386b')\"\n",
              "            title=\"Convert this dataframe to an interactive table.\"\n",
              "            style=\"display:none;\">\n",
              "\n",
              "  <svg xmlns=\"http://www.w3.org/2000/svg\" height=\"24px\" viewBox=\"0 -960 960 960\">\n",
              "    <path d=\"M120-120v-720h720v720H120Zm60-500h600v-160H180v160Zm220 220h160v-160H400v160Zm0 220h160v-160H400v160ZM180-400h160v-160H180v160Zm440 0h160v-160H620v160ZM180-180h160v-160H180v160Zm440 0h160v-160H620v160Z\"/>\n",
              "  </svg>\n",
              "    </button>\n",
              "\n",
              "  <style>\n",
              "    .colab-df-container {\n",
              "      display:flex;\n",
              "      gap: 12px;\n",
              "    }\n",
              "\n",
              "    .colab-df-convert {\n",
              "      background-color: #E8F0FE;\n",
              "      border: none;\n",
              "      border-radius: 50%;\n",
              "      cursor: pointer;\n",
              "      display: none;\n",
              "      fill: #1967D2;\n",
              "      height: 32px;\n",
              "      padding: 0 0 0 0;\n",
              "      width: 32px;\n",
              "    }\n",
              "\n",
              "    .colab-df-convert:hover {\n",
              "      background-color: #E2EBFA;\n",
              "      box-shadow: 0px 1px 2px rgba(60, 64, 67, 0.3), 0px 1px 3px 1px rgba(60, 64, 67, 0.15);\n",
              "      fill: #174EA6;\n",
              "    }\n",
              "\n",
              "    .colab-df-buttons div {\n",
              "      margin-bottom: 4px;\n",
              "    }\n",
              "\n",
              "    [theme=dark] .colab-df-convert {\n",
              "      background-color: #3B4455;\n",
              "      fill: #D2E3FC;\n",
              "    }\n",
              "\n",
              "    [theme=dark] .colab-df-convert:hover {\n",
              "      background-color: #434B5C;\n",
              "      box-shadow: 0px 1px 3px 1px rgba(0, 0, 0, 0.15);\n",
              "      filter: drop-shadow(0px 1px 2px rgba(0, 0, 0, 0.3));\n",
              "      fill: #FFFFFF;\n",
              "    }\n",
              "  </style>\n",
              "\n",
              "    <script>\n",
              "      const buttonEl =\n",
              "        document.querySelector('#df-c81f86e7-4084-447a-9117-d03b66f1386b button.colab-df-convert');\n",
              "      buttonEl.style.display =\n",
              "        google.colab.kernel.accessAllowed ? 'block' : 'none';\n",
              "\n",
              "      async function convertToInteractive(key) {\n",
              "        const element = document.querySelector('#df-c81f86e7-4084-447a-9117-d03b66f1386b');\n",
              "        const dataTable =\n",
              "          await google.colab.kernel.invokeFunction('convertToInteractive',\n",
              "                                                    [key], {});\n",
              "        if (!dataTable) return;\n",
              "\n",
              "        const docLinkHtml = 'Like what you see? Visit the ' +\n",
              "          '<a target=\"_blank\" href=https://colab.research.google.com/notebooks/data_table.ipynb>data table notebook</a>'\n",
              "          + ' to learn more about interactive tables.';\n",
              "        element.innerHTML = '';\n",
              "        dataTable['output_type'] = 'display_data';\n",
              "        await google.colab.output.renderOutput(dataTable, element);\n",
              "        const docLink = document.createElement('div');\n",
              "        docLink.innerHTML = docLinkHtml;\n",
              "        element.appendChild(docLink);\n",
              "      }\n",
              "    </script>\n",
              "  </div>\n",
              "\n",
              "\n",
              "<div id=\"df-7200099c-1f36-4ba1-9d21-60719d3a418e\">\n",
              "  <button class=\"colab-df-quickchart\" onclick=\"quickchart('df-7200099c-1f36-4ba1-9d21-60719d3a418e')\"\n",
              "            title=\"Suggest charts\"\n",
              "            style=\"display:none;\">\n",
              "\n",
              "<svg xmlns=\"http://www.w3.org/2000/svg\" height=\"24px\"viewBox=\"0 0 24 24\"\n",
              "     width=\"24px\">\n",
              "    <g>\n",
              "        <path d=\"M19 3H5c-1.1 0-2 .9-2 2v14c0 1.1.9 2 2 2h14c1.1 0 2-.9 2-2V5c0-1.1-.9-2-2-2zM9 17H7v-7h2v7zm4 0h-2V7h2v10zm4 0h-2v-4h2v4z\"/>\n",
              "    </g>\n",
              "</svg>\n",
              "  </button>\n",
              "\n",
              "<style>\n",
              "  .colab-df-quickchart {\n",
              "      --bg-color: #E8F0FE;\n",
              "      --fill-color: #1967D2;\n",
              "      --hover-bg-color: #E2EBFA;\n",
              "      --hover-fill-color: #174EA6;\n",
              "      --disabled-fill-color: #AAA;\n",
              "      --disabled-bg-color: #DDD;\n",
              "  }\n",
              "\n",
              "  [theme=dark] .colab-df-quickchart {\n",
              "      --bg-color: #3B4455;\n",
              "      --fill-color: #D2E3FC;\n",
              "      --hover-bg-color: #434B5C;\n",
              "      --hover-fill-color: #FFFFFF;\n",
              "      --disabled-bg-color: #3B4455;\n",
              "      --disabled-fill-color: #666;\n",
              "  }\n",
              "\n",
              "  .colab-df-quickchart {\n",
              "    background-color: var(--bg-color);\n",
              "    border: none;\n",
              "    border-radius: 50%;\n",
              "    cursor: pointer;\n",
              "    display: none;\n",
              "    fill: var(--fill-color);\n",
              "    height: 32px;\n",
              "    padding: 0;\n",
              "    width: 32px;\n",
              "  }\n",
              "\n",
              "  .colab-df-quickchart:hover {\n",
              "    background-color: var(--hover-bg-color);\n",
              "    box-shadow: 0 1px 2px rgba(60, 64, 67, 0.3), 0 1px 3px 1px rgba(60, 64, 67, 0.15);\n",
              "    fill: var(--button-hover-fill-color);\n",
              "  }\n",
              "\n",
              "  .colab-df-quickchart-complete:disabled,\n",
              "  .colab-df-quickchart-complete:disabled:hover {\n",
              "    background-color: var(--disabled-bg-color);\n",
              "    fill: var(--disabled-fill-color);\n",
              "    box-shadow: none;\n",
              "  }\n",
              "\n",
              "  .colab-df-spinner {\n",
              "    border: 2px solid var(--fill-color);\n",
              "    border-color: transparent;\n",
              "    border-bottom-color: var(--fill-color);\n",
              "    animation:\n",
              "      spin 1s steps(1) infinite;\n",
              "  }\n",
              "\n",
              "  @keyframes spin {\n",
              "    0% {\n",
              "      border-color: transparent;\n",
              "      border-bottom-color: var(--fill-color);\n",
              "      border-left-color: var(--fill-color);\n",
              "    }\n",
              "    20% {\n",
              "      border-color: transparent;\n",
              "      border-left-color: var(--fill-color);\n",
              "      border-top-color: var(--fill-color);\n",
              "    }\n",
              "    30% {\n",
              "      border-color: transparent;\n",
              "      border-left-color: var(--fill-color);\n",
              "      border-top-color: var(--fill-color);\n",
              "      border-right-color: var(--fill-color);\n",
              "    }\n",
              "    40% {\n",
              "      border-color: transparent;\n",
              "      border-right-color: var(--fill-color);\n",
              "      border-top-color: var(--fill-color);\n",
              "    }\n",
              "    60% {\n",
              "      border-color: transparent;\n",
              "      border-right-color: var(--fill-color);\n",
              "    }\n",
              "    80% {\n",
              "      border-color: transparent;\n",
              "      border-right-color: var(--fill-color);\n",
              "      border-bottom-color: var(--fill-color);\n",
              "    }\n",
              "    90% {\n",
              "      border-color: transparent;\n",
              "      border-bottom-color: var(--fill-color);\n",
              "    }\n",
              "  }\n",
              "</style>\n",
              "\n",
              "  <script>\n",
              "    async function quickchart(key) {\n",
              "      const quickchartButtonEl =\n",
              "        document.querySelector('#' + key + ' button');\n",
              "      quickchartButtonEl.disabled = true;  // To prevent multiple clicks.\n",
              "      quickchartButtonEl.classList.add('colab-df-spinner');\n",
              "      try {\n",
              "        const charts = await google.colab.kernel.invokeFunction(\n",
              "            'suggestCharts', [key], {});\n",
              "      } catch (error) {\n",
              "        console.error('Error during call to suggestCharts:', error);\n",
              "      }\n",
              "      quickchartButtonEl.classList.remove('colab-df-spinner');\n",
              "      quickchartButtonEl.classList.add('colab-df-quickchart-complete');\n",
              "    }\n",
              "    (() => {\n",
              "      let quickchartButtonEl =\n",
              "        document.querySelector('#df-7200099c-1f36-4ba1-9d21-60719d3a418e button');\n",
              "      quickchartButtonEl.style.display =\n",
              "        google.colab.kernel.accessAllowed ? 'block' : 'none';\n",
              "    })();\n",
              "  </script>\n",
              "</div>\n",
              "\n",
              "  <div id=\"id_0681c03a-f5c0-4974-9efb-a12df9f2181e\">\n",
              "    <style>\n",
              "      .colab-df-generate {\n",
              "        background-color: #E8F0FE;\n",
              "        border: none;\n",
              "        border-radius: 50%;\n",
              "        cursor: pointer;\n",
              "        display: none;\n",
              "        fill: #1967D2;\n",
              "        height: 32px;\n",
              "        padding: 0 0 0 0;\n",
              "        width: 32px;\n",
              "      }\n",
              "\n",
              "      .colab-df-generate:hover {\n",
              "        background-color: #E2EBFA;\n",
              "        box-shadow: 0px 1px 2px rgba(60, 64, 67, 0.3), 0px 1px 3px 1px rgba(60, 64, 67, 0.15);\n",
              "        fill: #174EA6;\n",
              "      }\n",
              "\n",
              "      [theme=dark] .colab-df-generate {\n",
              "        background-color: #3B4455;\n",
              "        fill: #D2E3FC;\n",
              "      }\n",
              "\n",
              "      [theme=dark] .colab-df-generate:hover {\n",
              "        background-color: #434B5C;\n",
              "        box-shadow: 0px 1px 3px 1px rgba(0, 0, 0, 0.15);\n",
              "        filter: drop-shadow(0px 1px 2px rgba(0, 0, 0, 0.3));\n",
              "        fill: #FFFFFF;\n",
              "      }\n",
              "    </style>\n",
              "    <button class=\"colab-df-generate\" onclick=\"generateWithVariable('sorted_data')\"\n",
              "            title=\"Generate code using this dataframe.\"\n",
              "            style=\"display:none;\">\n",
              "\n",
              "  <svg xmlns=\"http://www.w3.org/2000/svg\" height=\"24px\"viewBox=\"0 0 24 24\"\n",
              "       width=\"24px\">\n",
              "    <path d=\"M7,19H8.4L18.45,9,17,7.55,7,17.6ZM5,21V16.75L18.45,3.32a2,2,0,0,1,2.83,0l1.4,1.43a1.91,1.91,0,0,1,.58,1.4,1.91,1.91,0,0,1-.58,1.4L9.25,21ZM18.45,9,17,7.55Zm-12,3A5.31,5.31,0,0,0,4.9,8.1,5.31,5.31,0,0,0,1,6.5,5.31,5.31,0,0,0,4.9,4.9,5.31,5.31,0,0,0,6.5,1,5.31,5.31,0,0,0,8.1,4.9,5.31,5.31,0,0,0,12,6.5,5.46,5.46,0,0,0,6.5,12Z\"/>\n",
              "  </svg>\n",
              "    </button>\n",
              "    <script>\n",
              "      (() => {\n",
              "      const buttonEl =\n",
              "        document.querySelector('#id_0681c03a-f5c0-4974-9efb-a12df9f2181e button.colab-df-generate');\n",
              "      buttonEl.style.display =\n",
              "        google.colab.kernel.accessAllowed ? 'block' : 'none';\n",
              "\n",
              "      buttonEl.onclick = () => {\n",
              "        google.colab.notebook.generateWithVariable('sorted_data');\n",
              "      }\n",
              "      })();\n",
              "    </script>\n",
              "  </div>\n",
              "\n",
              "    </div>\n",
              "  </div>\n"
            ],
            "application/vnd.google.colaboratory.intrinsic+json": {
              "type": "dataframe",
              "variable_name": "sorted_data",
              "summary": "{\n  \"name\": \"sorted_data\",\n  \"rows\": 73100,\n  \"fields\": [\n    {\n      \"column\": \"Date\",\n      \"properties\": {\n        \"dtype\": \"category\",\n        \"num_unique_values\": 731,\n        \"samples\": [\n          \"24-10-2023\",\n          \"01-05-2022\",\n          \"16-07-2022\"\n        ],\n        \"semantic_type\": \"\",\n        \"description\": \"\"\n      }\n    },\n    {\n      \"column\": \"Store ID\",\n      \"properties\": {\n        \"dtype\": \"category\",\n        \"num_unique_values\": 5,\n        \"samples\": [\n          \"S002\",\n          \"S005\",\n          \"S003\"\n        ],\n        \"semantic_type\": \"\",\n        \"description\": \"\"\n      }\n    },\n    {\n      \"column\": \"Product ID\",\n      \"properties\": {\n        \"dtype\": \"category\",\n        \"num_unique_values\": 20,\n        \"samples\": [\n          \"P0001\",\n          \"P0018\",\n          \"P0016\"\n        ],\n        \"semantic_type\": \"\",\n        \"description\": \"\"\n      }\n    },\n    {\n      \"column\": \"Category\",\n      \"properties\": {\n        \"dtype\": \"category\",\n        \"num_unique_values\": 5,\n        \"samples\": [\n          \"Toys\",\n          \"Furniture\",\n          \"Electronics\"\n        ],\n        \"semantic_type\": \"\",\n        \"description\": \"\"\n      }\n    },\n    {\n      \"column\": \"Region\",\n      \"properties\": {\n        \"dtype\": \"category\",\n        \"num_unique_values\": 4,\n        \"samples\": [\n          \"East\",\n          \"West\",\n          \"North\"\n        ],\n        \"semantic_type\": \"\",\n        \"description\": \"\"\n      }\n    },\n    {\n      \"column\": \"Inventory Level\",\n      \"properties\": {\n        \"dtype\": \"number\",\n        \"std\": 129,\n        \"min\": 50,\n        \"max\": 500,\n        \"num_unique_values\": 451,\n        \"samples\": [\n          283,\n          125,\n          212\n        ],\n        \"semantic_type\": \"\",\n        \"description\": \"\"\n      }\n    },\n    {\n      \"column\": \"Solded Units\",\n      \"properties\": {\n        \"dtype\": \"number\",\n        \"std\": 108,\n        \"min\": 0,\n        \"max\": 499,\n        \"num_unique_values\": 498,\n        \"samples\": [\n          474,\n          204,\n          438\n        ],\n        \"semantic_type\": \"\",\n        \"description\": \"\"\n      }\n    },\n    {\n      \"column\": \"Units Ordered\",\n      \"properties\": {\n        \"dtype\": \"number\",\n        \"std\": 52,\n        \"min\": 20,\n        \"max\": 200,\n        \"num_unique_values\": 181,\n        \"samples\": [\n          199,\n          105,\n          148\n        ],\n        \"semantic_type\": \"\",\n        \"description\": \"\"\n      }\n    },\n    {\n      \"column\": \"Demand Forecast\",\n      \"properties\": {\n        \"dtype\": \"number\",\n        \"std\": 109.25407647039134,\n        \"min\": -9.99,\n        \"max\": 518.55,\n        \"num_unique_values\": 31608,\n        \"samples\": [\n          351.03,\n          294.73,\n          343.57\n        ],\n        \"semantic_type\": \"\",\n        \"description\": \"\"\n      }\n    },\n    {\n      \"column\": \"Price\",\n      \"properties\": {\n        \"dtype\": \"number\",\n        \"std\": 26.02194462562559,\n        \"min\": 10.0,\n        \"max\": 100.0,\n        \"num_unique_values\": 8999,\n        \"samples\": [\n          86.68,\n          15.45,\n          64.59\n        ],\n        \"semantic_type\": \"\",\n        \"description\": \"\"\n      }\n    },\n    {\n      \"column\": \"Discount\",\n      \"properties\": {\n        \"dtype\": \"number\",\n        \"std\": 7,\n        \"min\": 0,\n        \"max\": 20,\n        \"num_unique_values\": 5,\n        \"samples\": [\n          15,\n          10,\n          0\n        ],\n        \"semantic_type\": \"\",\n        \"description\": \"\"\n      }\n    },\n    {\n      \"column\": \"Weather Condition\",\n      \"properties\": {\n        \"dtype\": \"category\",\n        \"num_unique_values\": 4,\n        \"samples\": [\n          \"Cloudy\",\n          \"Snowy\",\n          \"Rainy\"\n        ],\n        \"semantic_type\": \"\",\n        \"description\": \"\"\n      }\n    },\n    {\n      \"column\": \"Holiday/Promotion\",\n      \"properties\": {\n        \"dtype\": \"number\",\n        \"std\": 0,\n        \"min\": 0,\n        \"max\": 1,\n        \"num_unique_values\": 2,\n        \"samples\": [\n          1,\n          0\n        ],\n        \"semantic_type\": \"\",\n        \"description\": \"\"\n      }\n    },\n    {\n      \"column\": \"Competitor Pricing\",\n      \"properties\": {\n        \"dtype\": \"number\",\n        \"std\": 26.191407869096306,\n        \"min\": 5.03,\n        \"max\": 104.94,\n        \"num_unique_values\": 9751,\n        \"samples\": [\n          92.46,\n          18.91\n        ],\n        \"semantic_type\": \"\",\n        \"description\": \"\"\n      }\n    },\n    {\n      \"column\": \"Seasonality\",\n      \"properties\": {\n        \"dtype\": \"category\",\n        \"num_unique_values\": 4,\n        \"samples\": [\n          \"Summer\",\n          \"Winter\"\n        ],\n        \"semantic_type\": \"\",\n        \"description\": \"\"\n      }\n    }\n  ]\n}"
            }
          },
          "metadata": {},
          "execution_count": 71
        }
      ]
    },
    {
      "cell_type": "code",
      "source": [
        "print(data[data[\"Inventory Level\"] > 100])"
      ],
      "metadata": {
        "colab": {
          "base_uri": "https://localhost:8080/"
        },
        "id": "8rOmRMIvm0Az",
        "outputId": "f7d29dd0-57c1-4927-f718-59305cec40ee"
      },
      "execution_count": null,
      "outputs": [
        {
          "output_type": "stream",
          "name": "stdout",
          "text": [
            "             Date Store ID Product ID     Category Region  Inventory Level  \\\n",
            "0      01-01-2022     S001      P0001    Groceries  North              231   \n",
            "1      01-01-2022     S001      P0002         Toys  South              204   \n",
            "2      01-01-2022     S001      P0003         Toys   West              102   \n",
            "3      01-01-2022     S001      P0004         Toys  North              469   \n",
            "4      01-01-2022     S001      P0005  Electronics   East              166   \n",
            "...           ...      ...        ...          ...    ...              ...   \n",
            "73094  01-01-2024     S005      P0015    Furniture  North              408   \n",
            "73096  01-01-2024     S005      P0017         Toys  North              313   \n",
            "73097  01-01-2024     S005      P0018     Clothing   West              278   \n",
            "73098  01-01-2024     S005      P0019         Toys   East              374   \n",
            "73099  01-01-2024     S005      P0020    Groceries   East              117   \n",
            "\n",
            "       Solded Units  Units Ordered  Demand Forecast  Price  Discount  \\\n",
            "0               127             55           135.47  33.50        20   \n",
            "1               150             66           144.04  63.01        20   \n",
            "2                65             51            74.02  27.99        10   \n",
            "3                61            164            62.18  32.72        10   \n",
            "4                14            135             9.26  73.64         0   \n",
            "...             ...            ...              ...    ...       ...   \n",
            "73094           323             92           336.64  83.26         0   \n",
            "73096            51            101            48.43  82.57        10   \n",
            "73097            36            151            39.65  11.11        10   \n",
            "73098           264             21           270.52  53.14        20   \n",
            "73099             6            165             2.33  78.39        20   \n",
            "\n",
            "      Weather Condition  Holiday/Promotion  Competitor Pricing Seasonality  \n",
            "0                 Rainy                  0               29.69      Autumn  \n",
            "1                 Sunny                  0               66.16      Autumn  \n",
            "2                 Sunny                  1               31.32      Summer  \n",
            "3                Cloudy                  1               34.74      Autumn  \n",
            "4                 Sunny                  0               68.95      Summer  \n",
            "...                 ...                ...                 ...         ...  \n",
            "73094             Sunny                  0               80.96      Winter  \n",
            "73096            Cloudy                  0               83.78      Autumn  \n",
            "73097             Rainy                  0               10.91      Winter  \n",
            "73098             Rainy                  0               55.80      Spring  \n",
            "73099             Rainy                  1               79.52      Spring  \n",
            "\n",
            "[64886 rows x 15 columns]\n"
          ]
        }
      ]
    },
    {
      "cell_type": "code",
      "source": [
        "df1 = pd.DataFrame({\"A\": [1, 2]})\n",
        "df2 = pd.DataFrame({\"A\": [3, 4]})\n",
        "result = pd.concat([df1, df2])\n",
        "print(result)"
      ],
      "metadata": {
        "colab": {
          "base_uri": "https://localhost:8080/"
        },
        "id": "yHx-Ah5anAkj",
        "outputId": "b0582005-456e-4a36-96fd-5eefdb044376"
      },
      "execution_count": null,
      "outputs": [
        {
          "output_type": "stream",
          "name": "stdout",
          "text": [
            "   A\n",
            "0  1\n",
            "1  2\n",
            "0  3\n",
            "1  4\n"
          ]
        }
      ]
    },
    {
      "cell_type": "code",
      "source": [
        "df1 = pd.DataFrame({\"ID\": [1, 2], \"Name\": [\"Alice\", \"Bob\"]})\n",
        "df2 = pd.DataFrame({\"ID\": [1, 2], \"Age\": [24, 30]})\n",
        "merged = pd.merge(df1, df2, on=\"ID\")\n",
        "print(merged)"
      ],
      "metadata": {
        "colab": {
          "base_uri": "https://localhost:8080/"
        },
        "id": "E2laJKjrnDjM",
        "outputId": "6059234c-3a0d-4ed2-e850-9643cf573cf3"
      },
      "execution_count": null,
      "outputs": [
        {
          "output_type": "stream",
          "name": "stdout",
          "text": [
            "   ID   Name  Age\n",
            "0   1  Alice   24\n",
            "1   2    Bob   30\n"
          ]
        }
      ]
    },
    {
      "cell_type": "code",
      "source": [
        "from sklearn.model_selection import KFold"
      ],
      "metadata": {
        "id": "05z2WP6YH8Dg"
      },
      "execution_count": null,
      "outputs": []
    },
    {
      "cell_type": "code",
      "source": [
        "kf = KFold(n_splits=5, shuffle=True, random_state=42)\n",
        "kf"
      ],
      "metadata": {
        "colab": {
          "base_uri": "https://localhost:8080/"
        },
        "id": "Cha7yAHjH9dE",
        "outputId": "cf279246-feba-45c7-cb28-ccb5dbd73618"
      },
      "execution_count": null,
      "outputs": [
        {
          "output_type": "execute_result",
          "data": {
            "text/plain": [
              "KFold(n_splits=5, random_state=42, shuffle=True)"
            ]
          },
          "metadata": {},
          "execution_count": 4
        }
      ]
    }
  ]
}